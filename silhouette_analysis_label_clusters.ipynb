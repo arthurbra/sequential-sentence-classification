{
 "cells": [
  {
   "cell_type": "code",
   "execution_count": null,
   "metadata": {},
   "outputs": [],
   "source": [
    "%matplotlib inline"
   ]
  },
  {
   "cell_type": "code",
   "execution_count": null,
   "metadata": {},
   "outputs": [],
   "source": [
    "from sklearn.datasets import make_blobs\n",
    "from sklearn.cluster import KMeans\n",
    "from sklearn.metrics import silhouette_samples, silhouette_score\n",
    "\n",
    "import matplotlib.pyplot as plt\n",
    "import matplotlib.cm as cm\n",
    "import numpy as np\n",
    "import pandas as pd\n",
    "from sklearn.decomposition import PCA"
   ]
  },
  {
   "cell_type": "code",
   "execution_count": null,
   "metadata": {},
   "outputs": [],
   "source": [
    "# ADAPT: provide path to the semantic vectors\n",
    "semantic_vectors_path = \"clusters/clusters - multi.csv\"\n",
    "#semantic_vectors_path = \"clusters/clusters - base.csv\"\n",
    "#semantic_vectors_path = \"clusters/clusters - groups.csv\""
   ]
  },
  {
   "cell_type": "code",
   "execution_count": null,
   "metadata": {},
   "outputs": [],
   "source": [
    "LABELS = [\"Background\", \"Problem\", \"Methods\", \"Results\", \"Conclusions\", \"Future Work\"]"
   ]
  },
  {
   "cell_type": "code",
   "execution_count": null,
   "metadata": {},
   "outputs": [],
   "source": [
    "def read_data(path, label_names):\n",
    "    df = pd.read_csv(path)\n",
    "    X = df.iloc[:, 2:]    \n",
    "    y = df.iloc[0:, 0]\n",
    "    for i, v in enumerate(y):\n",
    "        y[i] = label_names.index(v)\n",
    "    n_clusters = len(np.unique(y))\n",
    "    return X, y, n_clusters\n"
   ]
  },
  {
   "cell_type": "code",
   "execution_count": null,
   "metadata": {},
   "outputs": [],
   "source": [
    "def do_pca(data):\n",
    "    pca = PCA(n_components=2)\n",
    "    X = pca.fit_transform(data)\n",
    "    x = X[:, 0]\n",
    "    y = X[:, 1]\n",
    "    #print(pca.explained_variance_ratio_)\n",
    "    return X"
   ]
  },
  {
   "cell_type": "code",
   "execution_count": null,
   "metadata": {},
   "outputs": [],
   "source": [
    "X_multi, y_multi, n_clusters_multi = read_data(semantic_vectors_path, LABELS)\n",
    "X_multi_pca = do_pca(X_multi)\n"
   ]
  },
  {
   "cell_type": "code",
   "execution_count": null,
   "metadata": {},
   "outputs": [],
   "source": [
    "# The silhouette_score gives the average value for all the samples.\n",
    "# This gives a perspective into the density and separation of the formed\n",
    "# clusters\n",
    "metric = \"cosine\"\n",
    "\n",
    "silhouette_avg = silhouette_score(X_multi, y_multi, metric=metric)\n",
    "print(\"For n_clusters =\", n_clusters_multi,\n",
    "      \"The average silhouette_score is :\", silhouette_avg)"
   ]
  },
  {
   "cell_type": "code",
   "execution_count": null,
   "metadata": {},
   "outputs": [],
   "source": [
    "sample_silhouette_values = silhouette_samples(X_multi, y_multi, metric=metric)\n",
    "\n"
   ]
  },
  {
   "cell_type": "code",
   "execution_count": null,
   "metadata": {},
   "outputs": [],
   "source": [
    "df = pd.DataFrame({'label': [ LABELS[l] for l in y_multi],\n",
    "                   'silhoutte': sample_silhouette_values})\n",
    "df.groupby(\"label\").mean()"
   ]
  },
  {
   "cell_type": "code",
   "execution_count": null,
   "metadata": {},
   "outputs": [],
   "source": [
    "df.mean()"
   ]
  },
  {
   "cell_type": "code",
   "execution_count": null,
   "metadata": {},
   "outputs": [],
   "source": []
  },
  {
   "cell_type": "code",
   "execution_count": null,
   "metadata": {},
   "outputs": [],
   "source": []
  }
 ],
 "metadata": {
  "kernelspec": {
   "display_name": "Python 3",
   "language": "python",
   "name": "python3"
  },
  "language_info": {
   "codemirror_mode": {
    "name": "ipython",
    "version": 3
   },
   "file_extension": ".py",
   "mimetype": "text/x-python",
   "name": "python",
   "nbconvert_exporter": "python",
   "pygments_lexer": "ipython3",
   "version": "3.6.9"
  }
 },
 "nbformat": 4,
 "nbformat_minor": 2
}
